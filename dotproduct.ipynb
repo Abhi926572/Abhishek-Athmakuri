{
  "nbformat": 4,
  "nbformat_minor": 0,
  "metadata": {
    "colab": {
      "provenance": [],
      "authorship_tag": "ABX9TyMuYLHslkItw64/1DQvZikM",
      "include_colab_link": true
    },
    "kernelspec": {
      "name": "python3",
      "display_name": "Python 3"
    },
    "language_info": {
      "name": "python"
    }
  },
  "cells": [
    {
      "cell_type": "markdown",
      "metadata": {
        "id": "view-in-github",
        "colab_type": "text"
      },
      "source": [
        "<a href=\"https://colab.research.google.com/github/Abhi926572/Abhishek-Athmakuri/blob/main/dotproduct.ipynb\" target=\"_parent\"><img src=\"https://colab.research.google.com/assets/colab-badge.svg\" alt=\"Open In Colab\"/></a>"
      ]
    },
    {
      "cell_type": "code",
      "execution_count": 2,
      "metadata": {
        "colab": {
          "base_uri": "https://localhost:8080/"
        },
        "id": "uFeFBo-Tg_yY",
        "outputId": "09c8e5c3-71d5-417a-8eec-cc732f9c1ec9"
      },
      "outputs": [
        {
          "output_type": "stream",
          "name": "stdout",
          "text": [
            "[12  1  2  2]\n"
          ]
        }
      ],
      "source": [
        "import numpy as np\n",
        "A = np.array([12,1,2,2])\n",
        "print(A)\n"
      ]
    },
    {
      "cell_type": "code",
      "source": [
        "import numpy as np\n",
        "A = np.array([23,2,1,2,3])\n",
        "B = np.array([2,1,1,2,3])\n",
        "print(A.dot(B))"
      ],
      "metadata": {
        "id": "UyG3GgV_rcJ6"
      },
      "execution_count": null,
      "outputs": []
    }
  ]
}