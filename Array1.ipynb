{
  "nbformat": 4,
  "nbformat_minor": 0,
  "metadata": {
    "colab": {
      "provenance": [],
      "authorship_tag": "ABX9TyPVYx1ujsL6e6d4drtCfzyW",
      "include_colab_link": true
    },
    "kernelspec": {
      "name": "python3",
      "display_name": "Python 3"
    },
    "language_info": {
      "name": "python"
    }
  },
  "cells": [
    {
      "cell_type": "markdown",
      "metadata": {
        "id": "view-in-github",
        "colab_type": "text"
      },
      "source": [
        "<a href=\"https://colab.research.google.com/github/Abhi926572/Abhishek-Athmakuri/blob/main/Array1.ipynb\" target=\"_parent\"><img src=\"https://colab.research.google.com/assets/colab-badge.svg\" alt=\"Open In Colab\"/></a>"
      ]
    },
    {
      "cell_type": "code",
      "execution_count": 1,
      "metadata": {
        "colab": {
          "base_uri": "https://localhost:8080/"
        },
        "id": "-Yap_VDwvlZp",
        "outputId": "30dd4575-e44a-4f34-ec50-96360c9c84de"
      },
      "outputs": [
        {
          "output_type": "stream",
          "name": "stdout",
          "text": [
            "[2 5 3 7 3]\n",
            "<class 'numpy.ndarray'>\n"
          ]
        }
      ],
      "source": [
        "import numpy as np\n",
        "arry = np.array([2,5,3,7,3])\n",
        "print(arry)\n",
        "print(type(arry))"
      ]
    },
    {
      "cell_type": "code",
      "source": [
        "import numpy as np\n",
        "arry1 = np.array(['apple','banana','orange'])\n",
        "print(arry1)\n",
        "print(type(arry1))"
      ],
      "metadata": {
        "colab": {
          "base_uri": "https://localhost:8080/"
        },
        "id": "JSbq18iqyzz6",
        "outputId": "9ce68136-8a00-4113-f171-41c5463ac5ca"
      },
      "execution_count": 2,
      "outputs": [
        {
          "output_type": "stream",
          "name": "stdout",
          "text": [
            "['apple' 'banana' 'orange']\n",
            "<class 'numpy.ndarray'>\n"
          ]
        }
      ]
    },
    {
      "cell_type": "code",
      "source": [
        "import numpy as np\n",
        "arry = np.array([[2,5],[4,2]])\n",
        "arry1 = np.array([[2,5,4,2],[4,2,1,0]])\n",
        "arry2 = np.array([[2,5,4],[4,2,5],[6,7,8]])\n",
        "print(arry)\n",
        "\n",
        "print(arry1)\n",
        "print(arry2)"
      ],
      "metadata": {
        "colab": {
          "base_uri": "https://localhost:8080/"
        },
        "id": "Lmmtb32ay9uz",
        "outputId": "9595fdc1-5806-4dda-ebc5-b546dad19e13"
      },
      "execution_count": 7,
      "outputs": [
        {
          "output_type": "stream",
          "name": "stdout",
          "text": [
            "[[2 5]\n",
            " [4 2]]\n",
            "[[2 5 4 2]\n",
            " [4 2 1 0]]\n",
            "[[2 5 4]\n",
            " [4 2 5]\n",
            " [6 7 8]]\n"
          ]
        }
      ]
    },
    {
      "cell_type": "code",
      "source": [
        "import numpy as np\n",
        "arry1 = np.array([1,3,4,5,6])\n",
        "arry2 = np.array([2,6,3,4,8])\n",
        "print(arry1)\n",
        "print(np.add(arry2,arry1))\n",
        "print(np.subtract(arry2,arry1))\n",
        "print(np.multiply(arry2,arry1))\n",
        "print(np.divide(arry2,arry1))\n",
        "print(type(arry))\n"
      ],
      "metadata": {
        "colab": {
          "base_uri": "https://localhost:8080/"
        },
        "id": "_vbSwu300QY1",
        "outputId": "267ceb4a-0c0c-44cd-9dde-cb1e7ff95098"
      },
      "execution_count": 11,
      "outputs": [
        {
          "output_type": "stream",
          "name": "stdout",
          "text": [
            "[1 3 4 5 6]\n",
            "[ 3  9  7  9 14]\n",
            "[ 1  3 -1 -1  2]\n",
            "[ 2 18 12 20 48]\n",
            "[2.         2.         0.75       0.8        1.33333333]\n",
            "<class 'numpy.ndarray'>\n"
          ]
        }
      ]
    },
    {
      "cell_type": "code",
      "source": [],
      "metadata": {
        "id": "M3SmeX8FzBc0"
      },
      "execution_count": null,
      "outputs": []
    }
  ]
}